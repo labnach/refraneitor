{
 "cells": [
  {
   "cell_type": "markdown",
   "metadata": {},
   "source": [
    "# Get Dataset\n",
    "\n",
    "In this notebook we get and analyze the input dataset for the model.\n",
    "\n",
    "We download text available in [Refranero Castellano website](https://www.refranerocastellano.com/)."
   ]
  },
  {
   "cell_type": "code",
   "execution_count": 1,
   "metadata": {},
   "outputs": [],
   "source": [
    "import asyncio\n",
    "import re\n",
    "import string\n",
    "\n",
    "import aiohttp\n",
    "import pandas as pd\n",
    "from lxml import etree"
   ]
  },
  {
   "cell_type": "code",
   "execution_count": 2,
   "metadata": {},
   "outputs": [],
   "source": [
    "base_url = \"https://www.refranerocastellano.com/\"\n",
    "\n",
    "async def get_xtree(url, session):\n",
    "    \"\"\"Build XPath queryable tree from URL content.\"\"\"\n",
    "    response = await session.request(method=\"GET\", url=url)\n",
    "    body = await response.text()\n",
    "    tree = etree.fromstring(body, parser=etree.HTMLParser())\n",
    "    return tree\n",
    "\n",
    "def num_words(s):\n",
    "    return len(s.split())"
   ]
  },
  {
   "cell_type": "markdown",
   "metadata": {},
   "source": [
    "## Download text"
   ]
  },
  {
   "cell_type": "code",
   "execution_count": 3,
   "metadata": {},
   "outputs": [
    {
     "data": {
      "text/plain": [
       "8283"
      ]
     },
     "execution_count": 3,
     "metadata": {},
     "output_type": "execute_result"
    }
   ],
   "source": [
    "refs = set()\n",
    "\n",
    "async with aiohttp.ClientSession() as session:\n",
    "    tree = await get_xtree(base_url, session)\n",
    "    pages = tree.xpath(\"//div[@id='caja-f1']/a/@href\")\n",
    "    for subtree in await asyncio.gather(*[get_xtree(f\"{base_url}{p}\", session) for p in pages]):\n",
    "        # TODO follow links.\n",
    "        texts = subtree.xpath(\"//p/text()\")\n",
    "        for text in texts:\n",
    "            # normalize.\n",
    "            text = \" \".join(text.lower().replace(\"-\", \" \").split())\n",
    "            text = re.sub(r\"[^\\w\\s]\", \"\", text)\n",
    "            if text:\n",
    "                refs.add(text)\n",
    "\n",
    "len(refs)"
   ]
  },
  {
   "cell_type": "markdown",
   "metadata": {},
   "source": [
    "## Keep only samples of some length"
   ]
  },
  {
   "cell_type": "code",
   "execution_count": 4,
   "metadata": {},
   "outputs": [
    {
     "data": {
      "text/plain": [
       "7787"
      ]
     },
     "execution_count": 4,
     "metadata": {},
     "output_type": "execute_result"
    }
   ],
   "source": [
    "srefs = sorted(refs, key=lambda s: num_words(s))\n",
    "\n",
    "# drop short and long texts.\n",
    "i = 3\n",
    "j = 18\n",
    "srefs = [r for r in srefs if i < num_words(r) < j]\n",
    "\n",
    "len(srefs)"
   ]
  },
  {
   "cell_type": "code",
   "execution_count": 5,
   "metadata": {},
   "outputs": [
    {
     "data": {
      "text/plain": [
       "['a dios llamaron tú',\n",
       " 'palabras no sacan sangre',\n",
       " 'viejo que boda hace',\n",
       " 'buen servicio mal galardón',\n",
       " 'buey viejo surco derecho',\n",
       " 'hija desposada hija enajenada',\n",
       " 'pascua deseada pronto pasada',\n",
       " 'buey frontudo caballo cascudo',\n",
       " 'joven madrugador viejo trasnochador',\n",
       " 'libro cerrado maestro callado',\n",
       " 'a la mujer y al can el palo de una mano y de la otra el pan',\n",
       " 'los jardines de valencia la nobleza de madrid trigo de valladolid y de los sabios la ciencia',\n",
       " 'adiós puente de tudela por debajo pasa el ebro por encima los franceses que van al degolladero',\n",
       " 'para el refranero diciembre ya es tarde para la siembra santa lucía es el 13 de diciembre',\n",
       " 'si da el cántaro en la piedra o la piedra en el cántaro mal para el cántaro',\n",
       " 'tres cosas demando de dios si me las diese la tela el telar y la que teje',\n",
       " 'también se puede utilizar la harina de castañas para preparar pan pan de castañas pasteles y pasta',\n",
       " 'al que tiene mujer hermosa o castillo en frontera o viña en carretera nunca le falta guerra',\n",
       " 'de todos los santos a la ascensión no te quites el faldón y después quita y pon',\n",
       " 'dios nos tenga de su mano en invierno en verano y en todo el tiempo del año']"
      ]
     },
     "execution_count": 5,
     "metadata": {},
     "output_type": "execute_result"
    }
   ],
   "source": [
    "srefs[:10] + srefs[-10:]"
   ]
  },
  {
   "cell_type": "markdown",
   "metadata": {},
   "source": [
    "## Save dataset"
   ]
  },
  {
   "cell_type": "code",
   "execution_count": 6,
   "metadata": {},
   "outputs": [],
   "source": [
    "with open(\"dataset.txt\", \"w\") as f:\n",
    "    f.write(\"\\n\".join(srefs))"
   ]
  },
  {
   "cell_type": "markdown",
   "metadata": {},
   "source": [
    "## Distribution of number of words"
   ]
  },
  {
   "cell_type": "code",
   "execution_count": 7,
   "metadata": {},
   "outputs": [
    {
     "data": {
      "text/plain": [
       "<AxesSubplot:ylabel='Frequency'>"
      ]
     },
     "execution_count": 7,
     "metadata": {},
     "output_type": "execute_result"
    },
    {
     "data": {
      "image/png": "[encoded data removed]",
      "text/plain": [
       "<Figure size 432x288 with 1 Axes>"
      ]
     },
     "metadata": {
      "needs_background": "light"
     },
     "output_type": "display_data"
    }
   ],
   "source": [
    "pd.Series([num_words(r) for r in srefs]).plot.hist(bins=j-i)"
   ]
  },
  {
   "cell_type": "markdown",
   "metadata": {},
   "source": [
    "## Vocabulary size and distribution"
   ]
  },
  {
   "cell_type": "code",
   "execution_count": 8,
   "metadata": {},
   "outputs": [
    {
     "data": {
      "text/plain": [
       "70740"
      ]
     },
     "execution_count": 8,
     "metadata": {},
     "output_type": "execute_result"
    }
   ],
   "source": [
    "all_words = [word for text in srefs for word in text.split()]\n",
    "len(all_words)"
   ]
  },
  {
   "cell_type": "code",
   "execution_count": 9,
   "metadata": {},
   "outputs": [
    {
     "data": {
      "text/plain": [
       "7681"
      ]
     },
     "execution_count": 9,
     "metadata": {},
     "output_type": "execute_result"
    }
   ],
   "source": [
    "from collections import Counter\n",
    "\n",
    "vocab = Counter(all_words)\n",
    "len(vocab)"
   ]
  },
  {
   "cell_type": "code",
   "execution_count": 10,
   "metadata": {},
   "outputs": [
    {
     "data": {
      "text/plain": [
       "<AxesSubplot:>"
      ]
     },
     "execution_count": 10,
     "metadata": {},
     "output_type": "execute_result"
    },
    {
     "data": {
      "image/png": "[encoded data removed]",
      "text/plain": [
       "<Figure size 432x288 with 1 Axes>"
      ]
     },
     "metadata": {
      "needs_background": "light"
     },
     "output_type": "display_data"
    }
   ],
   "source": [
    "words, freqs = zip(*vocab.most_common())\n",
    "pd.Series(freqs[:100]).plot.line(logy=True)"
   ]
  }
 ],
 "metadata": {
  "kernelspec": {
   "display_name": "Python 3",
   "language": "python",
   "name": "python3"
  },
  "language_info": {
   "codemirror_mode": {
    "name": "ipython",
    "version": 3
   },
   "file_extension": ".py",
   "mimetype": "text/x-python",
   "name": "python",
   "nbconvert_exporter": "python",
   "pygments_lexer": "ipython3",
   "version": "3.6.9"
  }
 },
 "nbformat": 4,
 "nbformat_minor": 4
}
