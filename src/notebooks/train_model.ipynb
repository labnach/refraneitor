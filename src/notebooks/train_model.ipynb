{
 "cells": [
  {
   "cell_type": "code",
   "execution_count": 1,
   "metadata": {},
   "outputs": [],
   "source": [
    "from core.input import BatchGenerator\n",
    "from core.model import Refraneitor"
   ]
  },
  {
   "cell_type": "code",
   "execution_count": 2,
   "metadata": {},
   "outputs": [
    {
     "name": "stderr",
     "output_type": "stream",
     "text": [
      "Warning : `load_model` does not return WordVectorModel or SupervisedModel any more, but a `FastText` object which is very similar.\n"
     ]
    }
   ],
   "source": [
    "bg = BatchGenerator(\n",
    "    raw_data_path=\"/data/dataset.txt\",\n",
    "    fasttext_model_path=\"/fasttext-models/cc.es.300.bin\",\n",
    "    batch_size=32,\n",
    ")"
   ]
  },
  {
   "cell_type": "code",
   "execution_count": 3,
   "metadata": {
    "scrolled": true
   },
   "outputs": [
    {
     "name": "stdout",
     "output_type": "stream",
     "text": [
      "WARNING:tensorflow:From /usr/local/lib/python3.6/dist-packages/tensorflow_core/python/ops/resource_variable_ops.py:1630: calling BaseResourceVariable.__init__ (from tensorflow.python.ops.resource_variable_ops) with constraint is deprecated and will be removed in a future version.\n",
      "Instructions for updating:\n",
      "If using Keras pass *_constraint arguments to layers.\n"
     ]
    }
   ],
   "source": [
    "refraneitor = Refraneitor(\n",
    "    max_seq_length=bg.maxlen,\n",
    "    word_embedding_dim=bg.dataset[0][0].shape[1],\n",
    "    rnn_units=[128],\n",
    "    vocab_size=len(bg.vocab),\n",
    ")"
   ]
  },
  {
   "cell_type": "code",
   "execution_count": 4,
   "metadata": {},
   "outputs": [
    {
     "name": "stdout",
     "output_type": "stream",
     "text": [
      "Model: \"refraneitor\"\n",
      "_________________________________________________________________\n",
      "Layer (type)                 Output Shape              Param #   \n",
      "=================================================================\n",
      "lstm (LSTM)                  (None, 17, 128)           219648    \n",
      "_________________________________________________________________\n",
      "time_distributed (TimeDistri (None, 17, 7682)          990978    \n",
      "=================================================================\n",
      "Total params: 1,210,626\n",
      "Trainable params: 1,210,626\n",
      "Non-trainable params: 0\n",
      "_________________________________________________________________\n"
     ]
    }
   ],
   "source": [
    "refraneitor.summary()"
   ]
  },
  {
   "cell_type": "code",
   "execution_count": 5,
   "metadata": {},
   "outputs": [
    {
     "name": "stdout",
     "output_type": "stream",
     "text": [
      "Epoch 1/5\n",
      "WARNING:tensorflow:From /usr/local/lib/python3.6/dist-packages/tensorflow_core/python/ops/math_grad.py:1424: where (from tensorflow.python.ops.array_ops) is deprecated and will be removed in a future version.\n",
      "Instructions for updating:\n",
      "Use tf.where in 2.0, which has the same broadcast rule as np.where\n",
      "244/244 [==============================] - 6s 26ms/step - loss: 4.1765 - acc: 0.5216\n",
      "Epoch 2/5\n",
      "244/244 [==============================] - 7s 28ms/step - loss: 3.3661 - acc: 0.5346\n",
      "Epoch 3/5\n",
      "244/244 [==============================] - 7s 27ms/step - loss: 3.2195 - acc: 0.5446\n",
      "Epoch 4/5\n",
      "244/244 [==============================] - 7s 28ms/step - loss: 3.1213 - acc: 0.5501\n",
      "Epoch 5/5\n",
      "244/244 [==============================] - 7s 31ms/step - loss: 3.0338 - acc: 0.5565\n"
     ]
    },
    {
     "data": {
      "text/plain": [
       "<tensorflow.python.keras.callbacks.History at 0x7f008e6fd7b8>"
      ]
     },
     "execution_count": 5,
     "metadata": {},
     "output_type": "execute_result"
    }
   ],
   "source": [
    "refraneitor.fit_generator(bg, epochs=5)"
   ]
  }
 ],
 "metadata": {
  "kernelspec": {
   "display_name": "Python 3",
   "language": "python",
   "name": "python3"
  },
  "language_info": {
   "codemirror_mode": {
    "name": "ipython",
    "version": 3
   },
   "file_extension": ".py",
   "mimetype": "text/x-python",
   "name": "python",
   "nbconvert_exporter": "python",
   "pygments_lexer": "ipython3",
   "version": "3.6.9"
  }
 },
 "nbformat": 4,
 "nbformat_minor": 4
}
