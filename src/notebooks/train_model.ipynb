{
 "cells": [
  {
   "cell_type": "code",
   "execution_count": 1,
   "metadata": {},
   "outputs": [],
   "source": [
    "%load_ext autoreload\n",
    "%autoreload 2"
   ]
  },
  {
   "cell_type": "code",
   "execution_count": 8,
   "metadata": {},
   "outputs": [],
   "source": [
    "rnn_units = [128]"
   ]
  },
  {
   "cell_type": "code",
   "execution_count": 2,
   "metadata": {
    "scrolled": false
   },
   "outputs": [
    {
     "name": "stderr",
     "output_type": "stream",
     "text": [
      "Warning : `load_model` does not return WordVectorModel or SupervisedModel any more, but a `FastText` object which is very similar.\n"
     ]
    },
    {
     "name": "stdout",
     "output_type": "stream",
     "text": [
      "WARNING:tensorflow:From /usr/local/lib/python3.6/dist-packages/tensorflow_core/python/ops/resource_variable_ops.py:1630: calling BaseResourceVariable.__init__ (from tensorflow.python.ops.resource_variable_ops) with constraint is deprecated and will be removed in a future version.\n",
      "Instructions for updating:\n",
      "If using Keras pass *_constraint arguments to layers.\n",
      "Model: \"refraneitor\"\n",
      "_________________________________________________________________\n",
      "Layer (type)                 Output Shape              Param #   \n",
      "=================================================================\n",
      "lstm (LSTM)                  (None, 19, 128)           219648    \n",
      "_________________________________________________________________\n",
      "time_distributed (TimeDistri (None, 19, 7684)          991236    \n",
      "=================================================================\n",
      "Total params: 1,210,884\n",
      "Trainable params: 1,210,884\n",
      "Non-trainable params: 0\n",
      "_________________________________________________________________\n",
      "WARNING:tensorflow:`period` argument is deprecated. Please use `save_freq` to specify the frequency in number of samples seen.\n",
      "Epoch 1/10\n",
      "WARNING:tensorflow:From /usr/local/lib/python3.6/dist-packages/tensorflow_core/python/ops/math_grad.py:1424: where (from tensorflow.python.ops.array_ops) is deprecated and will be removed in a future version.\n",
      "Instructions for updating:\n",
      "Use tf.where in 2.0, which has the same broadcast rule as np.where\n",
      "244/244 [==============================] - 6s 26ms/step - loss: 4.2354 - acc: 0.4669\n",
      "Epoch 2/10\n",
      "244/244 [==============================] - 7s 30ms/step - loss: 3.2679 - acc: 0.5099\n",
      "Epoch 3/10\n",
      "244/244 [==============================] - 8s 31ms/step - loss: 3.1162 - acc: 0.5431\n",
      "Epoch 4/10\n",
      "244/244 [==============================] - 8s 33ms/step - loss: 3.0230 - acc: 0.5524\n",
      "Epoch 5/10\n",
      "244/244 [==============================] - 8s 33ms/step - loss: 2.9487 - acc: 0.5575\n",
      "Epoch 6/10\n",
      "244/244 [==============================] - 7s 31ms/step - loss: 2.8824 - acc: 0.5607\n",
      "Epoch 7/10\n",
      "244/244 [==============================] - 8s 32ms/step - loss: 2.8249 - acc: 0.5630\n",
      "Epoch 8/10\n",
      "244/244 [==============================] - 7s 30ms/step - loss: 2.7679 - acc: 0.5652\n",
      "Epoch 9/10\n",
      "244/244 [==============================] - 7s 30ms/step - loss: 2.7182 - acc: 0.5671\n",
      "Epoch 10/10\n",
      "244/244 [==============================] - 7s 30ms/step - loss: 2.6669 - acc: 0.5696\n"
     ]
    }
   ],
   "source": [
    "from api.train import train_model\n",
    "\n",
    "bg, model = train_model(\n",
    "    batch_size=32,\n",
    "    rnn_units=rnn_units,\n",
    "    epochs=10,\n",
    ")"
   ]
  },
  {
   "cell_type": "code",
   "execution_count": 10,
   "metadata": {},
   "outputs": [],
   "source": [
    "input = \"!begin en abril\"\n",
    "initial_seq = input.split()"
   ]
  },
  {
   "cell_type": "code",
   "execution_count": 11,
   "metadata": {},
   "outputs": [
    {
     "name": "stderr",
     "output_type": "stream",
     "text": [
      "Warning : `load_model` does not return WordVectorModel or SupervisedModel any more, but a `FastText` object which is very similar.\n"
     ]
    },
    {
     "name": "stdout",
     "output_type": "stream",
     "text": [
      "Model: \"refraneitor_3\"\n",
      "_________________________________________________________________\n",
      "Layer (type)                 Output Shape              Param #   \n",
      "=================================================================\n",
      "lstm_3 (LSTM)                (None, 128)               219648    \n",
      "_________________________________________________________________\n",
      "dense_3 (Dense)              (None, 7684)              991236    \n",
      "=================================================================\n",
      "Total params: 1,210,884\n",
      "Trainable params: 1,210,884\n",
      "Non-trainable params: 0\n",
      "_________________________________________________________________\n"
     ]
    },
    {
     "data": {
      "text/plain": [
       "['!begin', 'en', 'abril']"
      ]
     },
     "execution_count": 11,
     "metadata": {},
     "output_type": "execute_result"
    }
   ],
   "source": [
    "from api.generate import generate_sequence\n",
    "\n",
    "generate_sequence(\n",
    "    bg=bg,\n",
    "    rnn_units=rnn_units,\n",
    "    weights_to_load=\"/data/dumps/weights-10.h5\",\n",
    "    initial_seq=initial_seq,\n",
    "    vocab_size=len(bg.vocab),\n",
    "    # mode=\"highest\",\n",
    ")[:100]"
   ]
  },
  {
   "cell_type": "code",
   "execution_count": null,
   "metadata": {},
   "outputs": [],
   "source": []
  }
 ],
 "metadata": {
  "kernelspec": {
   "display_name": "Python 3",
   "language": "python",
   "name": "python3"
  },
  "language_info": {
   "codemirror_mode": {
    "name": "ipython",
    "version": 3
   },
   "file_extension": ".py",
   "mimetype": "text/x-python",
   "name": "python",
   "nbconvert_exporter": "python",
   "pygments_lexer": "ipython3",
   "version": "3.6.9"
  }
 },
 "nbformat": 4,
 "nbformat_minor": 4
}
