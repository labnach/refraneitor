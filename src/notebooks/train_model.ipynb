{
 "cells": [
  {
   "cell_type": "code",
   "execution_count": null,
   "metadata": {},
   "outputs": [],
   "source": [
    "%load_ext autoreload\n",
    "%autoreload 2"
   ]
  },
  {
   "cell_type": "code",
   "execution_count": null,
   "metadata": {},
   "outputs": [],
   "source": [
    "from core.input import BatchGenerator\n",
    "from core.model import Refraneitor\n",
    "\n",
    "raw_data_path = \"/data/dataset.txt\"\n",
    "fasttext_model_path = \"/fasttext-models/cc.es.300.bin\"\n",
    "\n",
    "bg = BatchGenerator(\n",
    "    raw_data_path=raw_data_path,\n",
    "    fasttext_model_path=fasttext_model_path,\n",
    "    batch_size=32,\n",
    "    shuffle=False,\n",
    ")"
   ]
  },
  {
   "cell_type": "code",
   "execution_count": null,
   "metadata": {
    "scrolled": false
   },
   "outputs": [],
   "source": [
    "from api.train import train_model\n",
    "\n",
    "rnn_units = [512]\n",
    "epochs = 200"
   ]
  },
  {
   "cell_type": "code",
   "execution_count": null,
   "metadata": {},
   "outputs": [],
   "source": [
    "# bg, model = train_model(\n",
    "#     batch_size=32,\n",
    "#     rnn_units=rnn_units,\n",
    "#     epochs=epochs,\n",
    "#     dropout=0.2,\n",
    "#     recurrent_dropout=0.2,\n",
    "# )"
   ]
  },
  {
   "cell_type": "code",
   "execution_count": null,
   "metadata": {},
   "outputs": [],
   "source": [
    "input = \"ante problemas menores\"\n",
    "initial_seq = input.split()"
   ]
  },
  {
   "cell_type": "code",
   "execution_count": null,
   "metadata": {},
   "outputs": [],
   "source": [
    "from api.generate import generate_sequence\n",
    "\n",
    "g = generate_sequence(\n",
    "    bg=bg,\n",
    "    rnn_units=rnn_units,\n",
    "    weights_to_load=f\"/data/dumps/weights-{epochs:03}.h5\",\n",
    "    # weights_to_load=\"/data/dumps/weights-10.h5\",\n",
    "    initial_seq=initial_seq,\n",
    "    vocab_size=len(bg.vocab),\n",
    "    # mode=\"highest\",\n",
    ")\n",
    "\n",
    "for r in g:\n",
    "    print(r)"
   ]
  },
  {
   "cell_type": "code",
   "execution_count": null,
   "metadata": {},
   "outputs": [],
   "source": []
  }
 ],
 "metadata": {
  "kernelspec": {
   "display_name": "Python 3",
   "language": "python",
   "name": "python3"
  },
  "language_info": {
   "codemirror_mode": {
    "name": "ipython",
    "version": 3
   },
   "file_extension": ".py",
   "mimetype": "text/x-python",
   "name": "python",
   "nbconvert_exporter": "python",
   "pygments_lexer": "ipython3",
   "version": "3.6.9"
  }
 },
 "nbformat": 4,
 "nbformat_minor": 4
}
